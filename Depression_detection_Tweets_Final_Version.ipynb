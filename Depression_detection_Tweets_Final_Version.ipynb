{
  "nbformat": 4,
  "nbformat_minor": 0,
  "metadata": {
    "accelerator": "GPU",
    "colab": {
      "name": "Depression_detection_Tweets_Final_Version.ipynb",
      "provenance": [],
      "collapsed_sections": [],
      "toc_visible": true,
      "include_colab_link": true
    },
    "kernelspec": {
      "display_name": "Python 3",
      "language": "python",
      "name": "python3"
    },
    "language_info": {
      "codemirror_mode": {
        "name": "ipython",
        "version": 3
      },
      "file_extension": ".py",
      "mimetype": "text/x-python",
      "name": "python",
      "nbconvert_exporter": "python",
      "pygments_lexer": "ipython3",
      "version": "3.8.5"
    }
  },
  "cells": [
    {
      "cell_type": "markdown",
      "metadata": {
        "id": "view-in-github",
        "colab_type": "text"
      },
      "source": [
        "<a href=\"https://colab.research.google.com/github/RittickSR/Sentiment-Analysis-on-Tweets/blob/main/Depression_detection_Tweets_Final_Version.ipynb\" target=\"_parent\"><img src=\"https://colab.research.google.com/assets/colab-badge.svg\" alt=\"Open In Colab\"/></a>"
      ]
    },
    {
      "cell_type": "markdown",
      "metadata": {
        "id": "mSclir3olKp4"
      },
      "source": [
        "# Detecting depression in Tweets using N-gram with BOW and TF-IDF"
      ]
    },
    {
      "cell_type": "markdown",
      "metadata": {
        "id": "-DPeA1dfh2FA"
      },
      "source": [
        "# Installing and importing libraries"
      ]
    },
    {
      "cell_type": "code",
      "metadata": {
        "colab": {
          "base_uri": "https://localhost:8080/"
        },
        "id": "jcHvWQn9Nh5X",
        "outputId": "6109c8ff-94e0-4287-83d8-e3817cb3c3ed"
      },
      "source": [
        "!pip install wordcloud\n",
        "!pip install nltk\n",
        "import nltk\n",
        "nltk.download('punkt')\n",
        "from nltk.tokenize import word_tokenize\n",
        "from nltk.corpus import stopwords\n",
        "from nltk.stem import PorterStemmer\n",
        "import matplotlib.pyplot as plt\n",
        "from wordcloud import WordCloud\n",
        "from math import log, sqrt\n",
        "import pandas as pd\n",
        "import numpy as np\n",
        "import re\n",
        "import unicodedata\n",
        "%matplotlib inline\n",
        "ADDITIONAL_STOPWORDS = ['covfefe']\n",
        "nltk.download('wordnet')"
      ],
      "execution_count": null,
      "outputs": [
        {
          "output_type": "stream",
          "text": [
            "Requirement already satisfied: wordcloud in /usr/local/lib/python3.7/dist-packages (1.5.0)\n",
            "Requirement already satisfied: numpy>=1.6.1 in /usr/local/lib/python3.7/dist-packages (from wordcloud) (1.19.5)\n",
            "Requirement already satisfied: pillow in /usr/local/lib/python3.7/dist-packages (from wordcloud) (7.1.2)\n",
            "Requirement already satisfied: nltk in /usr/local/lib/python3.7/dist-packages (3.2.5)\n",
            "Requirement already satisfied: six in /usr/local/lib/python3.7/dist-packages (from nltk) (1.15.0)\n",
            "[nltk_data] Downloading package punkt to /root/nltk_data...\n",
            "[nltk_data]   Unzipping tokenizers/punkt.zip.\n",
            "[nltk_data] Downloading package wordnet to /root/nltk_data...\n",
            "[nltk_data]   Unzipping corpora/wordnet.zip.\n"
          ],
          "name": "stdout"
        },
        {
          "output_type": "execute_result",
          "data": {
            "text/plain": [
              "True"
            ]
          },
          "metadata": {},
          "execution_count": 1
        }
      ]
    },
    {
      "cell_type": "markdown",
      "metadata": {
        "id": "3SXLgxG5h7DI"
      },
      "source": [
        "# Loading the Data"
      ]
    },
    {
      "cell_type": "code",
      "metadata": {
        "colab": {
          "base_uri": "https://localhost:8080/",
          "height": 391
        },
        "id": "uSPLlfPhNuW0",
        "outputId": "5321e469-9215-4645-c8b7-74653255a1e4"
      },
      "source": [
        "tweets = pd.read_csv('sentiment_tweets3.csv')\n",
        "tweets.head(20)"
      ],
      "execution_count": null,
      "outputs": [
        {
          "output_type": "error",
          "ename": "FileNotFoundError",
          "evalue": "ignored",
          "traceback": [
            "\u001b[0;31m---------------------------------------------------------------------------\u001b[0m",
            "\u001b[0;31mFileNotFoundError\u001b[0m                         Traceback (most recent call last)",
            "\u001b[0;32m<ipython-input-2-8996f969b68f>\u001b[0m in \u001b[0;36m<module>\u001b[0;34m()\u001b[0m\n\u001b[0;32m----> 1\u001b[0;31m \u001b[0mtweets\u001b[0m \u001b[0;34m=\u001b[0m \u001b[0mpd\u001b[0m\u001b[0;34m.\u001b[0m\u001b[0mread_csv\u001b[0m\u001b[0;34m(\u001b[0m\u001b[0;34m'sentiment_tweets3.csv'\u001b[0m\u001b[0;34m)\u001b[0m\u001b[0;34m\u001b[0m\u001b[0;34m\u001b[0m\u001b[0m\n\u001b[0m\u001b[1;32m      2\u001b[0m \u001b[0mtweets\u001b[0m\u001b[0;34m.\u001b[0m\u001b[0mhead\u001b[0m\u001b[0;34m(\u001b[0m\u001b[0;36m20\u001b[0m\u001b[0;34m)\u001b[0m\u001b[0;34m\u001b[0m\u001b[0;34m\u001b[0m\u001b[0m\n",
            "\u001b[0;32m/usr/local/lib/python3.7/dist-packages/pandas/io/parsers.py\u001b[0m in \u001b[0;36mread_csv\u001b[0;34m(filepath_or_buffer, sep, delimiter, header, names, index_col, usecols, squeeze, prefix, mangle_dupe_cols, dtype, engine, converters, true_values, false_values, skipinitialspace, skiprows, skipfooter, nrows, na_values, keep_default_na, na_filter, verbose, skip_blank_lines, parse_dates, infer_datetime_format, keep_date_col, date_parser, dayfirst, cache_dates, iterator, chunksize, compression, thousands, decimal, lineterminator, quotechar, quoting, doublequote, escapechar, comment, encoding, dialect, error_bad_lines, warn_bad_lines, delim_whitespace, low_memory, memory_map, float_precision)\u001b[0m\n\u001b[1;32m    686\u001b[0m     )\n\u001b[1;32m    687\u001b[0m \u001b[0;34m\u001b[0m\u001b[0m\n\u001b[0;32m--> 688\u001b[0;31m     \u001b[0;32mreturn\u001b[0m \u001b[0m_read\u001b[0m\u001b[0;34m(\u001b[0m\u001b[0mfilepath_or_buffer\u001b[0m\u001b[0;34m,\u001b[0m \u001b[0mkwds\u001b[0m\u001b[0;34m)\u001b[0m\u001b[0;34m\u001b[0m\u001b[0;34m\u001b[0m\u001b[0m\n\u001b[0m\u001b[1;32m    689\u001b[0m \u001b[0;34m\u001b[0m\u001b[0m\n\u001b[1;32m    690\u001b[0m \u001b[0;34m\u001b[0m\u001b[0m\n",
            "\u001b[0;32m/usr/local/lib/python3.7/dist-packages/pandas/io/parsers.py\u001b[0m in \u001b[0;36m_read\u001b[0;34m(filepath_or_buffer, kwds)\u001b[0m\n\u001b[1;32m    452\u001b[0m \u001b[0;34m\u001b[0m\u001b[0m\n\u001b[1;32m    453\u001b[0m     \u001b[0;31m# Create the parser.\u001b[0m\u001b[0;34m\u001b[0m\u001b[0;34m\u001b[0m\u001b[0;34m\u001b[0m\u001b[0m\n\u001b[0;32m--> 454\u001b[0;31m     \u001b[0mparser\u001b[0m \u001b[0;34m=\u001b[0m \u001b[0mTextFileReader\u001b[0m\u001b[0;34m(\u001b[0m\u001b[0mfp_or_buf\u001b[0m\u001b[0;34m,\u001b[0m \u001b[0;34m**\u001b[0m\u001b[0mkwds\u001b[0m\u001b[0;34m)\u001b[0m\u001b[0;34m\u001b[0m\u001b[0;34m\u001b[0m\u001b[0m\n\u001b[0m\u001b[1;32m    455\u001b[0m \u001b[0;34m\u001b[0m\u001b[0m\n\u001b[1;32m    456\u001b[0m     \u001b[0;32mif\u001b[0m \u001b[0mchunksize\u001b[0m \u001b[0;32mor\u001b[0m \u001b[0miterator\u001b[0m\u001b[0;34m:\u001b[0m\u001b[0;34m\u001b[0m\u001b[0;34m\u001b[0m\u001b[0m\n",
            "\u001b[0;32m/usr/local/lib/python3.7/dist-packages/pandas/io/parsers.py\u001b[0m in \u001b[0;36m__init__\u001b[0;34m(self, f, engine, **kwds)\u001b[0m\n\u001b[1;32m    946\u001b[0m             \u001b[0mself\u001b[0m\u001b[0;34m.\u001b[0m\u001b[0moptions\u001b[0m\u001b[0;34m[\u001b[0m\u001b[0;34m\"has_index_names\"\u001b[0m\u001b[0;34m]\u001b[0m \u001b[0;34m=\u001b[0m \u001b[0mkwds\u001b[0m\u001b[0;34m[\u001b[0m\u001b[0;34m\"has_index_names\"\u001b[0m\u001b[0;34m]\u001b[0m\u001b[0;34m\u001b[0m\u001b[0;34m\u001b[0m\u001b[0m\n\u001b[1;32m    947\u001b[0m \u001b[0;34m\u001b[0m\u001b[0m\n\u001b[0;32m--> 948\u001b[0;31m         \u001b[0mself\u001b[0m\u001b[0;34m.\u001b[0m\u001b[0m_make_engine\u001b[0m\u001b[0;34m(\u001b[0m\u001b[0mself\u001b[0m\u001b[0;34m.\u001b[0m\u001b[0mengine\u001b[0m\u001b[0;34m)\u001b[0m\u001b[0;34m\u001b[0m\u001b[0;34m\u001b[0m\u001b[0m\n\u001b[0m\u001b[1;32m    949\u001b[0m \u001b[0;34m\u001b[0m\u001b[0m\n\u001b[1;32m    950\u001b[0m     \u001b[0;32mdef\u001b[0m \u001b[0mclose\u001b[0m\u001b[0;34m(\u001b[0m\u001b[0mself\u001b[0m\u001b[0;34m)\u001b[0m\u001b[0;34m:\u001b[0m\u001b[0;34m\u001b[0m\u001b[0;34m\u001b[0m\u001b[0m\n",
            "\u001b[0;32m/usr/local/lib/python3.7/dist-packages/pandas/io/parsers.py\u001b[0m in \u001b[0;36m_make_engine\u001b[0;34m(self, engine)\u001b[0m\n\u001b[1;32m   1178\u001b[0m     \u001b[0;32mdef\u001b[0m \u001b[0m_make_engine\u001b[0m\u001b[0;34m(\u001b[0m\u001b[0mself\u001b[0m\u001b[0;34m,\u001b[0m \u001b[0mengine\u001b[0m\u001b[0;34m=\u001b[0m\u001b[0;34m\"c\"\u001b[0m\u001b[0;34m)\u001b[0m\u001b[0;34m:\u001b[0m\u001b[0;34m\u001b[0m\u001b[0;34m\u001b[0m\u001b[0m\n\u001b[1;32m   1179\u001b[0m         \u001b[0;32mif\u001b[0m \u001b[0mengine\u001b[0m \u001b[0;34m==\u001b[0m \u001b[0;34m\"c\"\u001b[0m\u001b[0;34m:\u001b[0m\u001b[0;34m\u001b[0m\u001b[0;34m\u001b[0m\u001b[0m\n\u001b[0;32m-> 1180\u001b[0;31m             \u001b[0mself\u001b[0m\u001b[0;34m.\u001b[0m\u001b[0m_engine\u001b[0m \u001b[0;34m=\u001b[0m \u001b[0mCParserWrapper\u001b[0m\u001b[0;34m(\u001b[0m\u001b[0mself\u001b[0m\u001b[0;34m.\u001b[0m\u001b[0mf\u001b[0m\u001b[0;34m,\u001b[0m \u001b[0;34m**\u001b[0m\u001b[0mself\u001b[0m\u001b[0;34m.\u001b[0m\u001b[0moptions\u001b[0m\u001b[0;34m)\u001b[0m\u001b[0;34m\u001b[0m\u001b[0;34m\u001b[0m\u001b[0m\n\u001b[0m\u001b[1;32m   1181\u001b[0m         \u001b[0;32melse\u001b[0m\u001b[0;34m:\u001b[0m\u001b[0;34m\u001b[0m\u001b[0;34m\u001b[0m\u001b[0m\n\u001b[1;32m   1182\u001b[0m             \u001b[0;32mif\u001b[0m \u001b[0mengine\u001b[0m \u001b[0;34m==\u001b[0m \u001b[0;34m\"python\"\u001b[0m\u001b[0;34m:\u001b[0m\u001b[0;34m\u001b[0m\u001b[0;34m\u001b[0m\u001b[0m\n",
            "\u001b[0;32m/usr/local/lib/python3.7/dist-packages/pandas/io/parsers.py\u001b[0m in \u001b[0;36m__init__\u001b[0;34m(self, src, **kwds)\u001b[0m\n\u001b[1;32m   2008\u001b[0m         \u001b[0mkwds\u001b[0m\u001b[0;34m[\u001b[0m\u001b[0;34m\"usecols\"\u001b[0m\u001b[0;34m]\u001b[0m \u001b[0;34m=\u001b[0m \u001b[0mself\u001b[0m\u001b[0;34m.\u001b[0m\u001b[0musecols\u001b[0m\u001b[0;34m\u001b[0m\u001b[0;34m\u001b[0m\u001b[0m\n\u001b[1;32m   2009\u001b[0m \u001b[0;34m\u001b[0m\u001b[0m\n\u001b[0;32m-> 2010\u001b[0;31m         \u001b[0mself\u001b[0m\u001b[0;34m.\u001b[0m\u001b[0m_reader\u001b[0m \u001b[0;34m=\u001b[0m \u001b[0mparsers\u001b[0m\u001b[0;34m.\u001b[0m\u001b[0mTextReader\u001b[0m\u001b[0;34m(\u001b[0m\u001b[0msrc\u001b[0m\u001b[0;34m,\u001b[0m \u001b[0;34m**\u001b[0m\u001b[0mkwds\u001b[0m\u001b[0;34m)\u001b[0m\u001b[0;34m\u001b[0m\u001b[0;34m\u001b[0m\u001b[0m\n\u001b[0m\u001b[1;32m   2011\u001b[0m         \u001b[0mself\u001b[0m\u001b[0;34m.\u001b[0m\u001b[0munnamed_cols\u001b[0m \u001b[0;34m=\u001b[0m \u001b[0mself\u001b[0m\u001b[0;34m.\u001b[0m\u001b[0m_reader\u001b[0m\u001b[0;34m.\u001b[0m\u001b[0munnamed_cols\u001b[0m\u001b[0;34m\u001b[0m\u001b[0;34m\u001b[0m\u001b[0m\n\u001b[1;32m   2012\u001b[0m \u001b[0;34m\u001b[0m\u001b[0m\n",
            "\u001b[0;32mpandas/_libs/parsers.pyx\u001b[0m in \u001b[0;36mpandas._libs.parsers.TextReader.__cinit__\u001b[0;34m()\u001b[0m\n",
            "\u001b[0;32mpandas/_libs/parsers.pyx\u001b[0m in \u001b[0;36mpandas._libs.parsers.TextReader._setup_parser_source\u001b[0;34m()\u001b[0m\n",
            "\u001b[0;31mFileNotFoundError\u001b[0m: [Errno 2] No such file or directory: 'sentiment_tweets3.csv'"
          ]
        }
      ]
    },
    {
      "cell_type": "code",
      "metadata": {
        "id": "1c1dXqKDO3d7"
      },
      "source": [
        "tweets.drop(['Unnamed: 0'], axis = 1, inplace = True)\n"
      ],
      "execution_count": null,
      "outputs": []
    },
    {
      "cell_type": "code",
      "metadata": {
        "colab": {
          "base_uri": "https://localhost:8080/"
        },
        "id": "D8Isy2xHNygX",
        "outputId": "1bd5bc92-3362-43e0-8c51-b9e8bd83a8bc"
      },
      "source": [
        "tweets['label'].value_counts()"
      ],
      "execution_count": null,
      "outputs": [
        {
          "output_type": "execute_result",
          "data": {
            "text/plain": [
              "0    8000\n",
              "1    2314\n",
              "Name: label, dtype: int64"
            ]
          },
          "metadata": {
            "tags": []
          },
          "execution_count": 5
        }
      ]
    },
    {
      "cell_type": "code",
      "metadata": {
        "colab": {
          "base_uri": "https://localhost:8080/"
        },
        "id": "7WNk7WIQdBuy",
        "outputId": "de1b6e27-e77e-4ae1-8f89-7fc808d2198d"
      },
      "source": [
        "tweets.info()"
      ],
      "execution_count": null,
      "outputs": [
        {
          "output_type": "stream",
          "text": [
            "<class 'pandas.core.frame.DataFrame'>\n",
            "RangeIndex: 10314 entries, 0 to 10313\n",
            "Data columns (total 2 columns):\n",
            " #   Column   Non-Null Count  Dtype \n",
            "---  ------   --------------  ----- \n",
            " 0   message  10314 non-null  object\n",
            " 1   label    10314 non-null  int64 \n",
            "dtypes: int64(1), object(1)\n",
            "memory usage: 161.3+ KB\n"
          ],
          "name": "stdout"
        }
      ]
    },
    {
      "cell_type": "markdown",
      "metadata": {
        "id": "64_4Pm5siBcY"
      },
      "source": [
        "# Splitting the Data in Training and Testing Sets"
      ]
    },
    {
      "cell_type": "code",
      "metadata": {
        "colab": {
          "base_uri": "https://localhost:8080/"
        },
        "id": "cZJmN8aOOoul",
        "outputId": "b303f61a-f1df-47a9-e164-52186abb470a"
      },
      "source": [
        "totalTweets = 8000 + 2314\n",
        "trainIndex, testIndex = list(), list()\n",
        "for i in range(tweets.shape[0]):\n",
        "    if np.random.uniform(0, 1) < 0.98:\n",
        "        trainIndex += [i]\n",
        "    else:\n",
        "        testIndex += [i]\n",
        "print(tweets.iloc[trainIndex])\n",
        "trainData = tweets.iloc[trainIndex]\n",
        "testData = tweets.iloc[testIndex]"
      ],
      "execution_count": null,
      "outputs": [
        {
          "output_type": "stream",
          "text": [
            "                                                 message  label\n",
            "0      just had a real good moment. i missssssssss hi...      0\n",
            "1             is reading manga  http://plurk.com/p/mzp1e      0\n",
            "2      @comeagainjen http://twitpic.com/2y2lx - http:...      0\n",
            "3      @lapcat Need to send 'em to my accountant tomo...      0\n",
            "4          ADD ME ON MYSPACE!!!  myspace.com/LookThunder      0\n",
            "...                                                  ...    ...\n",
            "10309  No Depression by G Herbo is my mood from now o...      1\n",
            "10310  What do you do when depression succumbs the br...      1\n",
            "10311  Ketamine Nasal Spray Shows Promise Against Dep...      1\n",
            "10312  dont mistake a bad day with depression! everyo...      1\n",
            "10313                                                  0      1\n",
            "\n",
            "[10123 rows x 2 columns]\n"
          ],
          "name": "stdout"
        }
      ]
    },
    {
      "cell_type": "code",
      "metadata": {
        "colab": {
          "base_uri": "https://localhost:8080/"
        },
        "id": "MNi-BT0TOtCu",
        "outputId": "c37cc305-9c90-4766-a4f7-ef95df878b34"
      },
      "source": [
        "tweets.info()"
      ],
      "execution_count": null,
      "outputs": [
        {
          "output_type": "stream",
          "text": [
            "<class 'pandas.core.frame.DataFrame'>\n",
            "RangeIndex: 10314 entries, 0 to 10313\n",
            "Data columns (total 2 columns):\n",
            " #   Column   Non-Null Count  Dtype \n",
            "---  ------   --------------  ----- \n",
            " 0   message  10314 non-null  object\n",
            " 1   label    10314 non-null  int64 \n",
            "dtypes: int64(1), object(1)\n",
            "memory usage: 161.3+ KB\n"
          ],
          "name": "stdout"
        }
      ]
    },
    {
      "cell_type": "code",
      "metadata": {
        "colab": {
          "base_uri": "https://localhost:8080/"
        },
        "id": "iF0qIngdO_IU",
        "outputId": "ba945498-9b17-4ed3-acc6-97ea544ce5d9"
      },
      "source": [
        "trainData['label'].value_counts()"
      ],
      "execution_count": null,
      "outputs": [
        {
          "output_type": "execute_result",
          "data": {
            "text/plain": [
              "0    7848\n",
              "1    2275\n",
              "Name: label, dtype: int64"
            ]
          },
          "metadata": {
            "tags": []
          },
          "execution_count": 9
        }
      ]
    },
    {
      "cell_type": "code",
      "metadata": {
        "colab": {
          "base_uri": "https://localhost:8080/",
          "height": 206
        },
        "id": "hDqhJmuhjJG5",
        "scrolled": true,
        "outputId": "64435814-7fc9-401d-8c12-d3ebc16ebfa5"
      },
      "source": [
        "trainData.head()\n"
      ],
      "execution_count": null,
      "outputs": [
        {
          "output_type": "execute_result",
          "data": {
            "text/html": [
              "<div>\n",
              "<style scoped>\n",
              "    .dataframe tbody tr th:only-of-type {\n",
              "        vertical-align: middle;\n",
              "    }\n",
              "\n",
              "    .dataframe tbody tr th {\n",
              "        vertical-align: top;\n",
              "    }\n",
              "\n",
              "    .dataframe thead th {\n",
              "        text-align: right;\n",
              "    }\n",
              "</style>\n",
              "<table border=\"1\" class=\"dataframe\">\n",
              "  <thead>\n",
              "    <tr style=\"text-align: right;\">\n",
              "      <th></th>\n",
              "      <th>message</th>\n",
              "      <th>label</th>\n",
              "    </tr>\n",
              "  </thead>\n",
              "  <tbody>\n",
              "    <tr>\n",
              "      <th>0</th>\n",
              "      <td>just had a real good moment. i missssssssss hi...</td>\n",
              "      <td>0</td>\n",
              "    </tr>\n",
              "    <tr>\n",
              "      <th>1</th>\n",
              "      <td>is reading manga  http://plurk.com/p/mzp1e</td>\n",
              "      <td>0</td>\n",
              "    </tr>\n",
              "    <tr>\n",
              "      <th>2</th>\n",
              "      <td>@comeagainjen http://twitpic.com/2y2lx - http:...</td>\n",
              "      <td>0</td>\n",
              "    </tr>\n",
              "    <tr>\n",
              "      <th>3</th>\n",
              "      <td>@lapcat Need to send 'em to my accountant tomo...</td>\n",
              "      <td>0</td>\n",
              "    </tr>\n",
              "    <tr>\n",
              "      <th>4</th>\n",
              "      <td>ADD ME ON MYSPACE!!!  myspace.com/LookThunder</td>\n",
              "      <td>0</td>\n",
              "    </tr>\n",
              "  </tbody>\n",
              "</table>\n",
              "</div>"
            ],
            "text/plain": [
              "                                             message  label\n",
              "0  just had a real good moment. i missssssssss hi...      0\n",
              "1         is reading manga  http://plurk.com/p/mzp1e      0\n",
              "2  @comeagainjen http://twitpic.com/2y2lx - http:...      0\n",
              "3  @lapcat Need to send 'em to my accountant tomo...      0\n",
              "4      ADD ME ON MYSPACE!!!  myspace.com/LookThunder      0"
            ]
          },
          "metadata": {
            "tags": []
          },
          "execution_count": 10
        }
      ]
    },
    {
      "cell_type": "code",
      "metadata": {
        "colab": {
          "base_uri": "https://localhost:8080/"
        },
        "id": "AhZnszOlPREp",
        "outputId": "09b3c2bc-5a99-44de-b65b-4533f22e52c6"
      },
      "source": [
        "testData['label'].value_counts()"
      ],
      "execution_count": null,
      "outputs": [
        {
          "output_type": "execute_result",
          "data": {
            "text/plain": [
              "0    152\n",
              "1     39\n",
              "Name: label, dtype: int64"
            ]
          },
          "metadata": {
            "tags": []
          },
          "execution_count": 11
        }
      ]
    },
    {
      "cell_type": "code",
      "metadata": {
        "colab": {
          "base_uri": "https://localhost:8080/",
          "height": 206
        },
        "id": "2co8_nTaPQjh",
        "outputId": "6d52163e-964d-41f2-f0eb-3207d76b320b"
      },
      "source": [
        "testData.head()"
      ],
      "execution_count": null,
      "outputs": [
        {
          "output_type": "execute_result",
          "data": {
            "text/html": [
              "<div>\n",
              "<style scoped>\n",
              "    .dataframe tbody tr th:only-of-type {\n",
              "        vertical-align: middle;\n",
              "    }\n",
              "\n",
              "    .dataframe tbody tr th {\n",
              "        vertical-align: top;\n",
              "    }\n",
              "\n",
              "    .dataframe thead th {\n",
              "        text-align: right;\n",
              "    }\n",
              "</style>\n",
              "<table border=\"1\" class=\"dataframe\">\n",
              "  <thead>\n",
              "    <tr style=\"text-align: right;\">\n",
              "      <th></th>\n",
              "      <th>message</th>\n",
              "      <th>label</th>\n",
              "    </tr>\n",
              "  </thead>\n",
              "  <tbody>\n",
              "    <tr>\n",
              "      <th>64</th>\n",
              "      <td>@ WildstarB - Happy Rezday Captain   - and tha...</td>\n",
              "      <td>0</td>\n",
              "    </tr>\n",
              "    <tr>\n",
              "      <th>86</th>\n",
              "      <td>@aplusk thats beautiful, what a lovely thing t...</td>\n",
              "      <td>0</td>\n",
              "    </tr>\n",
              "    <tr>\n",
              "      <th>131</th>\n",
              "      <td>@myucan91 daamnn...:| im not even going to ask...</td>\n",
              "      <td>0</td>\n",
              "    </tr>\n",
              "    <tr>\n",
              "      <th>165</th>\n",
              "      <td>mad at @tacrain and @kylielanejonas for comple...</td>\n",
              "      <td>0</td>\n",
              "    </tr>\n",
              "    <tr>\n",
              "      <th>300</th>\n",
              "      <td>@shani_epa umm through this arrangement what w...</td>\n",
              "      <td>0</td>\n",
              "    </tr>\n",
              "  </tbody>\n",
              "</table>\n",
              "</div>"
            ],
            "text/plain": [
              "                                               message  label\n",
              "64   @ WildstarB - Happy Rezday Captain   - and tha...      0\n",
              "86   @aplusk thats beautiful, what a lovely thing t...      0\n",
              "131  @myucan91 daamnn...:| im not even going to ask...      0\n",
              "165  mad at @tacrain and @kylielanejonas for comple...      0\n",
              "300  @shani_epa umm through this arrangement what w...      0"
            ]
          },
          "metadata": {
            "tags": []
          },
          "execution_count": 12
        }
      ]
    },
    {
      "cell_type": "markdown",
      "metadata": {
        "id": "O3gQOTX7iK7v"
      },
      "source": [
        "# N-Gram Analysis(Bi-Gram and Trigram)"
      ]
    },
    {
      "cell_type": "code",
      "metadata": {
        "colab": {
          "base_uri": "https://localhost:8080/"
        },
        "id": "S_otrPRlMcD5",
        "outputId": "1b7aa860-ee77-49e9-da08-27371dcda162"
      },
      "source": [
        "nltk.download('stopwords')"
      ],
      "execution_count": null,
      "outputs": [
        {
          "output_type": "stream",
          "text": [
            "[nltk_data] Downloading package stopwords to /root/nltk_data...\n",
            "[nltk_data]   Unzipping corpora/stopwords.zip.\n"
          ],
          "name": "stdout"
        },
        {
          "output_type": "execute_result",
          "data": {
            "text/plain": [
              "True"
            ]
          },
          "metadata": {
            "tags": []
          },
          "execution_count": 13
        }
      ]
    },
    {
      "cell_type": "code",
      "metadata": {
        "colab": {
          "base_uri": "https://localhost:8080/"
        },
        "id": "SU-S679IMcD6",
        "outputId": "1ed071c3-80f1-4950-ae39-f95c354f69b4"
      },
      "source": [
        "trainData.head()\n",
        "def basic_clean(text):\n",
        " \n",
        "  wnl = nltk.stem.WordNetLemmatizer()\n",
        "  stopwords = nltk.corpus.stopwords.words('english') + ADDITIONAL_STOPWORDS\n",
        "  text = (unicodedata.normalize('NFKD', text)\n",
        "    .encode('ascii', 'ignore')\n",
        "    .decode('utf-8', 'ignore')\n",
        "    .lower())\n",
        "  words = re.sub(r'[^\\w\\s]', '', text).split()\n",
        "  return [wnl.lemmatize(word) for word in words if word not in stopwords]\n",
        "words = basic_clean(''.join(str(trainData['message'].tolist())))\n",
        "words[:20]"
      ],
      "execution_count": null,
      "outputs": [
        {
          "output_type": "execute_result",
          "data": {
            "text/plain": [
              "['real',\n",
              " 'good',\n",
              " 'moment',\n",
              " 'miss',\n",
              " 'much',\n",
              " 'reading',\n",
              " 'manga',\n",
              " 'httpplurkcompmzp1e',\n",
              " 'comeagainjen',\n",
              " 'httptwitpiccom2y2lx',\n",
              " 'httpwwwyoutubecomwatchvzogfqvh2me8',\n",
              " 'lapcat',\n",
              " 'need',\n",
              " 'send',\n",
              " 'em',\n",
              " 'accountant',\n",
              " 'tomorrow',\n",
              " 'oddly',\n",
              " 'wasnt',\n",
              " 'even']"
            ]
          },
          "metadata": {
            "tags": []
          },
          "execution_count": 14
        }
      ]
    },
    {
      "cell_type": "code",
      "metadata": {
        "colab": {
          "base_uri": "https://localhost:8080/"
        },
        "id": "U1w7PlMbMcD6",
        "outputId": "5488d1c2-b585-4f9b-fe08-978ad12c5931"
      },
      "source": [
        "(pd.Series(nltk.ngrams(words, 2)).value_counts())[:12]\n"
      ],
      "execution_count": null,
      "outputs": [
        {
          "output_type": "execute_result",
          "data": {
            "text/plain": [
              "(anxiety, depression)    137\n",
              "(depression, anxiety)    134\n",
              "(cant, wait)             102\n",
              "(good, morning)           83\n",
              "(im, going)               72\n",
              "(last, night)             57\n",
              "(mental, health)          52\n",
              "(dont, know)              49\n",
              "(feel, like)              43\n",
              "(im, gonna)               41\n",
              "(happy, birthday)         39\n",
              "(good, luck)              38\n",
              "dtype: int64"
            ]
          },
          "metadata": {
            "tags": []
          },
          "execution_count": 15
        }
      ]
    },
    {
      "cell_type": "code",
      "metadata": {
        "colab": {
          "base_uri": "https://localhost:8080/",
          "height": 531
        },
        "id": "cRD6UoUqMcD6",
        "outputId": "11438808-2e8f-441c-b6e3-ed89db65bd33"
      },
      "source": [
        "bigrams_series = (pd.Series(nltk.ngrams(words, 2)).value_counts())[:12]\n",
        "bigrams_series.sort_values().plot.barh(color='blue', width=.9, figsize=(12, 8))\n",
        "plt.title('20 Most Frequently Occuring Bigrams')\n",
        "plt.ylabel('Bigram')\n",
        "plt.xlabel('# of Occurances')"
      ],
      "execution_count": null,
      "outputs": [
        {
          "output_type": "execute_result",
          "data": {
            "text/plain": [
              "Text(0.5, 0, '# of Occurances')"
            ]
          },
          "metadata": {
            "tags": []
          },
          "execution_count": 16
        },
        {
          "output_type": "display_data",
          "data": {
            "image/png": "[encoded data removed]",
            "text/plain": [
              "<Figure size 864x576 with 1 Axes>"
            ]
          },
          "metadata": {
            "tags": [],
            "needs_background": "light"
          }
        }
      ]
    },
    {
      "cell_type": "code",
      "metadata": {
        "colab": {
          "base_uri": "https://localhost:8080/"
        },
        "id": "4iy1FljaMcD7",
        "outputId": "2669c835-da23-4ae7-f885-318462594a04"
      },
      "source": [
        "(pd.Series(nltk.ngrams(words, 3)).value_counts())[:4]"
      ],
      "execution_count": null,
      "outputs": [
        {
          "output_type": "execute_result",
          "data": {
            "text/plain": [
              "(mom, depression, tied)           30\n",
              "(depression, tied, kid)           30\n",
              "(tied, kid, emotional)            30\n",
              "(kid, emotional, intellectual)    29\n",
              "dtype: int64"
            ]
          },
          "metadata": {
            "tags": []
          },
          "execution_count": 17
        }
      ]
    },
    {
      "cell_type": "code",
      "metadata": {
        "colab": {
          "base_uri": "https://localhost:8080/",
          "height": 368
        },
        "id": "cO_9S55vMcD7",
        "outputId": "fc16d2c5-b570-44b7-9c7e-ba827f67d6e1"
      },
      "source": [
        "trigrams_series = (pd.Series(nltk.ngrams(words, 3)).value_counts())[:4]\n",
        "trigrams_series.sort_values().plot.barh(color='green', width=.4, figsize=(12, 5))\n",
        "plt.title('20 Most Frequently Occuring Triagrams')\n",
        "plt.ylabel('Triagram')\n",
        "plt.xlabel('# of Occurances')"
      ],
      "execution_count": null,
      "outputs": [
        {
          "output_type": "execute_result",
          "data": {
            "text/plain": [
              "Text(0.5, 0, '# of Occurances')"
            ]
          },
          "metadata": {
            "tags": []
          },
          "execution_count": 18
        },
        {
          "output_type": "display_data",
          "data": {
            "image/png": "[encoded data removed]",
            "text/plain": [
              "<Figure size 864x360 with 1 Axes>"
            ]
          },
          "metadata": {
            "tags": [],
            "needs_background": "light"
          }
        }
      ]
    },
    {
      "cell_type": "code",
      "metadata": {
        "id": "Tj6YVJaOPS_S"
      },
      "source": [
        "def process_message(message, lower_case = True, stem = True, stop_words = True, gram = 2):\n",
        "    if lower_case:\n",
        "        message = message.lower()\n",
        "    words = word_tokenize(message)\n",
        "    words = [w for w in words if len(w) > 2]\n",
        "    if gram > 1:\n",
        "        w = []\n",
        "        for i in range(len(words) - gram + 1):\n",
        "            w += [' '.join(words[i:i + gram])]\n",
        "        return w\n",
        "    if stop_words:\n",
        "        sw = stopwords.words('english')\n",
        "        words = [word for word in words if word not in sw]\n",
        "    if stem:\n",
        "        stemmer = PorterStemmer()\n",
        "        words = [stemmer.stem(word) for word in words]   \n",
        "    return words"
      ],
      "execution_count": null,
      "outputs": []
    },
    {
      "cell_type": "code",
      "metadata": {
        "id": "tYzcjULuPVyd"
      },
      "source": [
        "class TweetClassifier(object):\n",
        "    def __init__(self, trainData, method = 'tf-idf'):\n",
        "        self.tweets, self.labels = trainData['message'], trainData['label']\n",
        "        self.method = method\n",
        "\n",
        "    def train(self):\n",
        "        self.calc_TF_and_IDF()\n",
        "        if self.method == 'tf-idf':\n",
        "            self.calc_TF_IDF()\n",
        "        else:\n",
        "            self.calc_prob()\n",
        "\n",
        "    def calc_prob(self):\n",
        "        self.prob_depressive = dict()\n",
        "        self.prob_positive = dict()\n",
        "        for word in self.tf_depressive:\n",
        "            self.prob_depressive[word] = (self.tf_depressive[word] + 1) / (self.depressive_words + \\\n",
        "                                                                len(list(self.tf_depressive.keys())))\n",
        "        for word in self.tf_positive:\n",
        "            self.prob_positive[word] = (self.tf_positive[word] + 1) / (self.positive_words + \\\n",
        "                                                                len(list(self.tf_positive.keys())))\n",
        "        self.prob_depressive_tweet, self.prob_positive_tweet = self.depressive_tweets / self.total_tweets, self.positive_tweets / self.total_tweets \n",
        "\n",
        "\n",
        "    def calc_TF_and_IDF(self):\n",
        "        noOfMessages = self.tweets.shape[0]\n",
        "        self.depressive_tweets, self.positive_tweets = self.labels.value_counts()[1], self.labels.value_counts()[0]\n",
        "        self.total_tweets = self.depressive_tweets + self.positive_tweets\n",
        "        self.depressive_words = 0\n",
        "        self.positive_words = 0\n",
        "        self.tf_depressive = dict()\n",
        "        self.tf_positive = dict()\n",
        "        self.idf_depressive = dict()\n",
        "        self.idf_positive = dict()\n",
        "        for i in range(noOfMessages):\n",
        "            message_processed = process_message(self.tweets.iloc[i])\n",
        "            count = list() #To keep track of whether the word has ocured in the message or not.\n",
        "                           #For IDF\n",
        "            for word in message_processed:\n",
        "                if self.labels.iloc[i]:\n",
        "                    self.tf_depressive[word] = self.tf_depressive.get(word, 0) + 1\n",
        "                    self.depressive_words += 1\n",
        "                   \n",
        "                else:\n",
        "                    self.tf_positive[word] = self.tf_positive.get(word, 0) + 1\n",
        "                    self.positive_words += 1\n",
        "                if word not in count:\n",
        "                    count += [word]\n",
        "            \n",
        "            for word in count:\n",
        "                if self.labels.iloc[i]:\n",
        "                    self.idf_depressive[word] = self.idf_depressive.get(word, 0) + 1\n",
        "                else:\n",
        "                    self.idf_positive[word] = self.idf_positive.get(word, 0) + 1\n",
        "    \n",
        "    def calc_TF_IDF(self):\n",
        "        self.prob_depressive = dict()\n",
        "        self.prob_positive = dict()\n",
        "        self.sum_tf_idf_depressive = 0\n",
        "        self.sum_tf_idf_positive = 0\n",
        "        for word in self.tf_depressive:\n",
        "            self.prob_depressive[word] = (self.tf_depressive[word]) * log((self.depressive_tweets + self.positive_tweets) \\\n",
        "                                                          / (self.idf_depressive[word] + self.idf_positive.get(word, 0)))\n",
        "            self.sum_tf_idf_depressive += self.prob_depressive[word]\n",
        "        for word in self.tf_depressive:\n",
        "            self.prob_depressive[word] = (self.prob_depressive[word] + 1) / (self.sum_tf_idf_depressive + len(list(self.prob_depressive.keys())))\n",
        "            \n",
        "        for word in self.tf_positive:\n",
        "            self.prob_positive[word] = (self.tf_positive[word]) * log((self.depressive_tweets + self.positive_tweets) \\\n",
        "                                                          / (self.idf_depressive.get(word, 0) + self.idf_positive[word]))\n",
        "            self.sum_tf_idf_positive += self.prob_positive[word]\n",
        "        for word in self.tf_positive:\n",
        "            self.prob_positive[word] = (self.prob_positive[word] + 1) / (self.sum_tf_idf_positive + len(list(self.prob_positive.keys())))\n",
        "            \n",
        "    \n",
        "        self.prob_depressive_tweet, self.prob_positive_tweet = self.depressive_tweets / self.total_tweets, self.positive_tweets / self.total_tweets \n",
        "    def normalize(self,x):\n",
        "        return (1/(1+ np.exp(x)))\n",
        "    def stratify(self,ret_value):\n",
        "        if ret_value<0.25:\n",
        "            return 'Very Depressive'\n",
        "        elif ret_value>=0.25 and ret_value<0.6:\n",
        "            return 'Mildly Depressive'\n",
        "        elif ret_value>=0.6 and ret_value<=0.65:\n",
        "            return 'Maybe'\n",
        "        elif ret_value>0.65 and ret_value<0.91:\n",
        "            return 'Mildly Happy'\n",
        "        else:\n",
        "            return 'Very Happy'                    \n",
        "    def classify(self, processed_message):\n",
        "        #range_calc=[0 for i in range(4)]\n",
        "        pDepressive, pPositive = 0, 0\n",
        "        for word in processed_message:                \n",
        "            if word in self.prob_depressive:\n",
        "                pDepressive += log(self.prob_depressive[word])\n",
        "            else:\n",
        "                if self.method == 'tf-idf':\n",
        "                    pDepressive -= log(self.sum_tf_idf_depressive + len(list(self.prob_depressive.keys())))\n",
        "                    #pDepressive=1/(1 + np.exp(-pDepressive))\n",
        "                    #print('pDepressive',pDepressive)\n",
        "                else:\n",
        "                    pDepressive -= log(self.depressive_words + len(list(self.prob_depressive.keys())))\n",
        "                    #pDepressive=1/(1 + np.exp(-pDepressive))\n",
        "                    #print('pDepressive',pDepressive)\n",
        "            if word in self.prob_positive:\n",
        "                pPositive += log(self.prob_positive[word])\n",
        "                #pPositive=1/(1 + np.exp(-pPositive))\n",
        "                #print('pPositive',pPositive)\n",
        "            else:\n",
        "                if self.method == 'tf-idf':\n",
        "                    pPositive -= log(self.sum_tf_idf_positive + len(list(self.prob_positive.keys()))) \n",
        "                    #pPositive=1/(1 + np.exp(-pPositive))\n",
        "                    #print('pPositive',pPositive)\n",
        "                else:\n",
        "                    pPositive -= log(self.positive_words + len(list(self.prob_positive.keys())))\n",
        "                    #pPositive=1/(1 + np.exp(-pPositive))\n",
        "                    #print('pPositive',pPositive)\n",
        "            pDepressive += log(self.prob_depressive_tweet)\n",
        "            pPositive += log(self.prob_positive_tweet)\n",
        "        #pDepressive=1/(1 + np.exp(-pDepressive))\n",
        "        #pPositive=1/(1 + np.exp(-pPositive))\n",
        "        ret_value=self.normalize(pDepressive-pPositive)\n",
        "        return self.stratify(ret_value), int(pDepressive>pPositive)\n",
        "    def predict(self, testData):\n",
        "        result = dict()\n",
        "        for (i, message) in enumerate(testData):\n",
        "            processed_message = process_message(message)\n",
        "            result[i] = self.classify(processed_message)\n",
        "            #if result[i][0]=='Mildly Happy':\n",
        "                #print(message)\n",
        "        return result"
      ],
      "execution_count": null,
      "outputs": []
    },
    {
      "cell_type": "code",
      "metadata": {
        "id": "K0yrhh0xPm90"
      },
      "source": [
        "def metrics(labels, predictions):\n",
        "    true_pos, true_neg, false_pos, false_neg = 0, 0, 0, 0\n",
        "    for i in range(len(labels)):\n",
        "        true_pos += int(labels.iloc[i] == 1 and predictions[i][1] == 1)\n",
        "        true_neg += int(labels.iloc[i] == 0 and predictions[i][1] == 0)\n",
        "        false_pos += int(labels.iloc[i] == 0 and predictions[i][1] == 1)\n",
        "        false_neg += int(labels.iloc[i] == 1 and predictions[i][1] == 0)\n",
        "    precision = true_pos / (true_pos + false_pos)\n",
        "    recall = true_pos / (true_pos + false_neg)\n",
        "    Fscore = 2 * precision * recall / (precision + recall)\n",
        "    accuracy = (true_pos + true_neg) / (true_pos + true_neg + false_pos + false_neg)\n",
        "\n",
        "    print(\"Precision: \", precision)\n",
        "    print(\"Recall: \", recall)\n",
        "    print(\"F-score: \", Fscore)\n",
        "    print(\"Accuracy: \", accuracy)"
      ],
      "execution_count": null,
      "outputs": []
    },
    {
      "cell_type": "code",
      "metadata": {
        "colab": {
          "base_uri": "https://localhost:8080/"
        },
        "id": "s_eBmu6tPrDN",
        "outputId": "19762278-37c2-412c-dfa7-81324a3abff4"
      },
      "source": [
        "sc_tf_idf = TweetClassifier(trainData, 'tf-idf')\n",
        "sc_tf_idf.train()\n",
        "preds_tf_idf = sc_tf_idf.predict(testData['message'])\n",
        "metrics(testData['label'],preds_tf_idf)\n"
      ],
      "execution_count": null,
      "outputs": [
        {
          "output_type": "stream",
          "text": [
            "Precision:  0.8571428571428571\n",
            "Recall:  0.46153846153846156\n",
            "F-score:  0.6\n",
            "Accuracy:  0.8743455497382199\n"
          ],
          "name": "stdout"
        }
      ]
    },
    {
      "cell_type": "code",
      "metadata": {
        "colab": {
          "base_uri": "https://localhost:8080/"
        },
        "id": "Y6-fuPbRPzOL",
        "outputId": "80a44f0c-e3e6-4af9-c4dc-b91d9d02d84f"
      },
      "source": [
        "sc_bow = TweetClassifier(trainData, 'bow')\n",
        "sc_bow.train()\n",
        "preds_bow = sc_bow.predict(testData['message'])\n",
        "metrics(testData['label'],preds_bow)"
      ],
      "execution_count": null,
      "outputs": [
        {
          "output_type": "stream",
          "text": [
            "Precision:  1.0\n",
            "Recall:  0.20512820512820512\n",
            "F-score:  0.3404255319148936\n",
            "Accuracy:  0.837696335078534\n"
          ],
          "name": "stdout"
        }
      ]
    },
    {
      "cell_type": "markdown",
      "metadata": {
        "id": "7PRBv_f5iYC9"
      },
      "source": [
        "# Predictions with TF-IDF"
      ]
    },
    {
      "cell_type": "markdown",
      "metadata": {
        "id": "nMMIxE_TibWU"
      },
      "source": [
        "# Depressive Tweets"
      ]
    },
    {
      "cell_type": "code",
      "metadata": {
        "colab": {
          "base_uri": "https://localhost:8080/",
          "height": 36
        },
        "id": "RpbsEPYBgn3q",
        "outputId": "76b5114d-afe7-48b5-aeb6-e3e6047db462"
      },
      "source": [
        "pm = process_message('Lately I have been feeling unsure of myself as a person & an artist')\n",
        "sc_tf_idf.classify(pm)[0]"
      ],
      "execution_count": null,
      "outputs": [
        {
          "output_type": "execute_result",
          "data": {
            "application/vnd.google.colaboratory.intrinsic+json": {
              "type": "string"
            },
            "text/plain": [
              "'Very Depressive'"
            ]
          },
          "metadata": {
            "tags": []
          },
          "execution_count": 28
        }
      ]
    },
    {
      "cell_type": "code",
      "metadata": {
        "colab": {
          "base_uri": "https://localhost:8080/",
          "height": 36
        },
        "id": "epTpHRqShPc6",
        "outputId": "2e1080b5-f547-4a4c-c033-b8d8d19a2e08"
      },
      "source": [
        "pm = process_message('Extreme sadness, lack of energy, hopelessness')\n",
        "sc_tf_idf.classify(pm)[0]\n"
      ],
      "execution_count": null,
      "outputs": [
        {
          "output_type": "execute_result",
          "data": {
            "application/vnd.google.colaboratory.intrinsic+json": {
              "type": "string"
            },
            "text/plain": [
              "'Very Depressive'"
            ]
          },
          "metadata": {
            "tags": []
          },
          "execution_count": 29
        }
      ]
    },
    {
      "cell_type": "code",
      "metadata": {
        "colab": {
          "base_uri": "https://localhost:8080/",
          "height": 36
        },
        "id": "HgbUfSIphUEo",
        "outputId": "b1485ef7-8ebb-47e0-c3b1-3ef4584032ff"
      },
      "source": [
        "pm = process_message('Hi hello depression and anxiety are the worst')\n",
        "sc_tf_idf.classify(pm)[0]"
      ],
      "execution_count": null,
      "outputs": [
        {
          "output_type": "execute_result",
          "data": {
            "application/vnd.google.colaboratory.intrinsic+json": {
              "type": "string"
            },
            "text/plain": [
              "'Very Depressive'"
            ]
          },
          "metadata": {
            "tags": []
          },
          "execution_count": 32
        }
      ]
    },
    {
      "cell_type": "code",
      "metadata": {
        "colab": {
          "base_uri": "https://localhost:8080/",
          "height": 36
        },
        "id": "C20gHtJvhxP4",
        "outputId": "45a8ae16-8a91-4f6d-f935-0bb695a71042"
      },
      "source": [
        "pm = process_message('I am officially done with @kanyewest')\n",
        "sc_tf_idf.classify(pm)[0]\n"
      ],
      "execution_count": null,
      "outputs": [
        {
          "output_type": "execute_result",
          "data": {
            "application/vnd.google.colaboratory.intrinsic+json": {
              "type": "string"
            },
            "text/plain": [
              "'Very Depressive'"
            ]
          },
          "metadata": {
            "tags": []
          },
          "execution_count": 31
        }
      ]
    },
    {
      "cell_type": "code",
      "metadata": {
        "colab": {
          "base_uri": "https://localhost:8080/",
          "height": 36
        },
        "id": "U0kmpGfTo0OT",
        "outputId": "8d24c00e-f0b5-4e34-a9f3-24e64e0d5b18"
      },
      "source": [
        "pm = process_message('Feeling down...')\n",
        "sc_tf_idf.classify(pm)[0]\n"
      ],
      "execution_count": null,
      "outputs": [
        {
          "output_type": "execute_result",
          "data": {
            "application/vnd.google.colaboratory.intrinsic+json": {
              "type": "string"
            },
            "text/plain": [
              "'Mildly Depressive'"
            ]
          },
          "metadata": {
            "tags": []
          },
          "execution_count": 33
        }
      ]
    },
    {
      "cell_type": "code",
      "metadata": {
        "colab": {
          "base_uri": "https://localhost:8080/",
          "height": 187
        },
        "id": "BJupGWKPtru3",
        "outputId": "b20e7ffd-a74e-4bd2-e4b2-1a1d62b6e2fd"
      },
      "source": [
        "pm = process_message('My depression will not let me work out')\n",
        "sc_tf_idf.classify(pm)[0]\n"
      ],
      "execution_count": null,
      "outputs": [
        {
          "output_type": "error",
          "ename": "NameError",
          "evalue": "ignored",
          "traceback": [
            "\u001b[0;31m---------------------------------------------------------------------------\u001b[0m",
            "\u001b[0;31mNameError\u001b[0m                                 Traceback (most recent call last)",
            "\u001b[0;32m<ipython-input-1-3a2f51ab6725>\u001b[0m in \u001b[0;36m<module>\u001b[0;34m()\u001b[0m\n\u001b[0;32m----> 1\u001b[0;31m \u001b[0mpm\u001b[0m \u001b[0;34m=\u001b[0m \u001b[0mprocess_message\u001b[0m\u001b[0;34m(\u001b[0m\u001b[0;34m'My depression will not let me work out'\u001b[0m\u001b[0;34m)\u001b[0m\u001b[0;34m\u001b[0m\u001b[0;34m\u001b[0m\u001b[0m\n\u001b[0m\u001b[1;32m      2\u001b[0m \u001b[0msc_tf_idf\u001b[0m\u001b[0;34m.\u001b[0m\u001b[0mclassify\u001b[0m\u001b[0;34m(\u001b[0m\u001b[0mpm\u001b[0m\u001b[0;34m)\u001b[0m\u001b[0;34m[\u001b[0m\u001b[0;36m0\u001b[0m\u001b[0;34m]\u001b[0m\u001b[0;34m\u001b[0m\u001b[0;34m\u001b[0m\u001b[0m\n",
            "\u001b[0;31mNameError\u001b[0m: name 'process_message' is not defined"
          ]
        }
      ]
    },
    {
      "cell_type": "markdown",
      "metadata": {
        "id": "_AcSaXvMigqS"
      },
      "source": [
        "# Positive Tweets"
      ]
    },
    {
      "cell_type": "code",
      "metadata": {
        "colab": {
          "base_uri": "https://localhost:8080/",
          "height": 36
        },
        "id": "R8qSXPj6vunr",
        "outputId": "cea930d1-0f76-4c7b-896c-b837f22e7eb4"
      },
      "source": [
        "pm = process_message('Loving how me and my lovely partner is talking about what we want.')\n",
        "sc_tf_idf.classify(pm)[0]\n"
      ],
      "execution_count": null,
      "outputs": [
        {
          "output_type": "execute_result",
          "data": {
            "application/vnd.google.colaboratory.intrinsic+json": {
              "type": "string"
            },
            "text/plain": [
              "'Very Happy'"
            ]
          },
          "metadata": {
            "tags": []
          },
          "execution_count": 35
        }
      ]
    },
    {
      "cell_type": "code",
      "metadata": {
        "id": "xd1PvGVHhMrf"
      },
      "source": [
        "pm = process_message('Very rewarding when a patient hugs you and tells you they feel great after changing the diet and daily habits')\n",
        "sc_tf_idf.classify(pm)[0]\n"
      ],
      "execution_count": null,
      "outputs": []
    },
    {
      "cell_type": "code",
      "metadata": {
        "colab": {
          "base_uri": "https://localhost:8080/",
          "height": 36
        },
        "id": "wQXcxJe9hc3F",
        "outputId": "2d163837-4f70-42a1-cc6c-be6752a5ac3f"
      },
      "source": [
        "pm = process_message('Happy Thursday everyone. Thought today was Wednesday so super happy tomorrow is Friday yayyyyy')\n",
        "sc_tf_idf.classify(pm)[0]"
      ],
      "execution_count": null,
      "outputs": [
        {
          "output_type": "execute_result",
          "data": {
            "application/vnd.google.colaboratory.intrinsic+json": {
              "type": "string"
            },
            "text/plain": [
              "'Very Happy'"
            ]
          },
          "metadata": {
            "tags": []
          },
          "execution_count": 37
        }
      ]
    },
    {
      "cell_type": "code",
      "metadata": {
        "colab": {
          "base_uri": "https://localhost:8080/",
          "height": 36
        },
        "id": "b8s1UoEMhpET",
        "outputId": "9c3c3a4a-d7e1-43de-f7e5-e7e8be64c934"
      },
      "source": [
        "pm = process_message('Got a sweater, now I\\'m warm.')\n",
        "sc_tf_idf.classify(pm)[0]"
      ],
      "execution_count": null,
      "outputs": [
        {
          "output_type": "execute_result",
          "data": {
            "application/vnd.google.colaboratory.intrinsic+json": {
              "type": "string"
            },
            "text/plain": [
              "'Very Happy'"
            ]
          },
          "metadata": {
            "tags": []
          },
          "execution_count": 39
        }
      ]
    },
    {
      "cell_type": "code",
      "metadata": {
        "colab": {
          "base_uri": "https://localhost:8080/",
          "height": 36
        },
        "id": "UNcY8KegMcEB",
        "outputId": "a1a8e270-4562-4b1b-91a4-7e048edd8232"
      },
      "source": [
        "pm = process_message('@mojustice I\\'ve heard this fall. I\\'m waiting too!')\n",
        "sc_tf_idf.classify(pm)[0]"
      ],
      "execution_count": null,
      "outputs": [
        {
          "output_type": "execute_result",
          "data": {
            "application/vnd.google.colaboratory.intrinsic+json": {
              "type": "string"
            },
            "text/plain": [
              "'Very Happy'"
            ]
          },
          "metadata": {
            "tags": []
          },
          "execution_count": 40
        }
      ]
    },
    {
      "cell_type": "code",
      "metadata": {
        "colab": {
          "base_uri": "https://localhost:8080/",
          "height": 36
        },
        "id": "_v6vP0WDQh-F",
        "outputId": "bb99ce69-0958-48be-ac98-0444e99ff1e8"
      },
      "source": [
        "pm=process_message('Aww bless.')\n",
        "sc_tf_idf.classify(pm)[0]"
      ],
      "execution_count": null,
      "outputs": [
        {
          "output_type": "execute_result",
          "data": {
            "application/vnd.google.colaboratory.intrinsic+json": {
              "type": "string"
            },
            "text/plain": [
              "'Mildly Happy'"
            ]
          },
          "metadata": {
            "tags": []
          },
          "execution_count": 55
        }
      ]
    },
    {
      "cell_type": "markdown",
      "metadata": {
        "id": "qYWiCIP_jxPA"
      },
      "source": [
        "# Predictions with Bag-of-Words (BOW)"
      ]
    },
    {
      "cell_type": "markdown",
      "metadata": {
        "id": "jUNh6RAAkU3b"
      },
      "source": [
        "# Depressive tweets"
      ]
    },
    {
      "cell_type": "code",
      "metadata": {
        "colab": {
          "base_uri": "https://localhost:8080/",
          "height": 36
        },
        "id": "w01rRcmOj4qY",
        "outputId": "24b2239e-566a-4810-c73b-f6c63a1d2d3f"
      },
      "source": [
        "pm = process_message('Hi hello depression and anxiety are the worst')\n",
        "sc_bow.classify(pm)[0]"
      ],
      "execution_count": null,
      "outputs": [
        {
          "output_type": "execute_result",
          "data": {
            "application/vnd.google.colaboratory.intrinsic+json": {
              "type": "string"
            },
            "text/plain": [
              "'Very Depressive'"
            ]
          },
          "metadata": {
            "tags": []
          },
          "execution_count": 41
        }
      ]
    },
    {
      "cell_type": "code",
      "metadata": {
        "colab": {
          "base_uri": "https://localhost:8080/",
          "height": 36
        },
        "id": "4MY_2dsBkadw",
        "outputId": "a890e2cc-f035-4993-b6c5-8797813f7069"
      },
      "source": [
        "pm = process_message('My depression will not let me work out')\n",
        "sc_bow.classify(pm)[0]"
      ],
      "execution_count": null,
      "outputs": [
        {
          "output_type": "execute_result",
          "data": {
            "application/vnd.google.colaboratory.intrinsic+json": {
              "type": "string"
            },
            "text/plain": [
              "'Very Depressive'"
            ]
          },
          "metadata": {
            "tags": []
          },
          "execution_count": 42
        }
      ]
    },
    {
      "cell_type": "code",
      "metadata": {
        "colab": {
          "base_uri": "https://localhost:8080/",
          "height": 36
        },
        "id": "eG-Epsj0kjOn",
        "outputId": "6d2bdc91-36f2-4691-f070-e076ba6e072f"
      },
      "source": [
        "pm = process_message('Feeling down...')\n",
        "sc_bow.classify(pm)[0]"
      ],
      "execution_count": null,
      "outputs": [
        {
          "output_type": "execute_result",
          "data": {
            "application/vnd.google.colaboratory.intrinsic+json": {
              "type": "string"
            },
            "text/plain": [
              "'Mildly Depressive'"
            ]
          },
          "metadata": {
            "tags": []
          },
          "execution_count": 43
        }
      ]
    },
    {
      "cell_type": "markdown",
      "metadata": {
        "id": "Ar4DpMmAkrdM"
      },
      "source": [
        "# Positive Tweets"
      ]
    },
    {
      "cell_type": "code",
      "metadata": {
        "colab": {
          "base_uri": "https://localhost:8080/",
          "height": 36
        },
        "id": "qqtbx-_9k3gF",
        "outputId": "01352e7a-4f9c-47a0-889c-7fe6182e42f9"
      },
      "source": [
        "pm = process_message('Loving how me and my lovely partner is talking about what we want.')\n",
        "sc_bow.classify(pm)[0]"
      ],
      "execution_count": null,
      "outputs": [
        {
          "output_type": "execute_result",
          "data": {
            "application/vnd.google.colaboratory.intrinsic+json": {
              "type": "string"
            },
            "text/plain": [
              "'Very Happy'"
            ]
          },
          "metadata": {
            "tags": []
          },
          "execution_count": 44
        }
      ]
    },
    {
      "cell_type": "code",
      "metadata": {
        "colab": {
          "base_uri": "https://localhost:8080/",
          "height": 36
        },
        "id": "e29Wbkh_k51c",
        "outputId": "345633d1-9a2f-49dd-d508-1d10120dc181"
      },
      "source": [
        "pm = process_message('Very rewarding when a patient hugs you and tells you they feel great after changing the diet and daily habits')\n",
        "sc_bow.classify(pm)[0]"
      ],
      "execution_count": null,
      "outputs": [
        {
          "output_type": "execute_result",
          "data": {
            "application/vnd.google.colaboratory.intrinsic+json": {
              "type": "string"
            },
            "text/plain": [
              "'Very Happy'"
            ]
          },
          "metadata": {
            "tags": []
          },
          "execution_count": 45
        }
      ]
    },
    {
      "cell_type": "code",
      "metadata": {
        "colab": {
          "base_uri": "https://localhost:8080/",
          "height": 36
        },
        "id": "w1VTvz6vlChL",
        "outputId": "ff87e48f-5549-4793-918b-6e608bbcdd26"
      },
      "source": [
        "pm = process_message('Happy Thursday everyone. Thought today was Wednesday so super happy tomorrow is Friday yayyyyy')\n",
        "sc_bow.classify(pm)[0]"
      ],
      "execution_count": null,
      "outputs": [
        {
          "output_type": "execute_result",
          "data": {
            "application/vnd.google.colaboratory.intrinsic+json": {
              "type": "string"
            },
            "text/plain": [
              "'Very Happy'"
            ]
          },
          "metadata": {
            "tags": []
          },
          "execution_count": 46
        }
      ]
    },
    {
      "cell_type": "code",
      "metadata": {
        "colab": {
          "base_uri": "https://localhost:8080/",
          "height": 36
        },
        "id": "z4M7panvMcEE",
        "outputId": "86a82230-8e4d-4ac9-de83-bef41318ed12"
      },
      "source": [
        "pm = process_message('Aww Bless.')\n",
        "sc_bow.classify(pm)[0]"
      ],
      "execution_count": null,
      "outputs": [
        {
          "output_type": "execute_result",
          "data": {
            "application/vnd.google.colaboratory.intrinsic+json": {
              "type": "string"
            },
            "text/plain": [
              "'Mildly Happy'"
            ]
          },
          "metadata": {
            "tags": []
          },
          "execution_count": 61
        }
      ]
    }
  ]
}